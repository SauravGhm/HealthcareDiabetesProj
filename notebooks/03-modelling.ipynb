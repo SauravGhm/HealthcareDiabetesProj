{
 "cells": [
  {
   "cell_type": "code",
   "execution_count": null,
   "metadata": {},
   "outputs": [
    {
     "ename": "",
     "evalue": "",
     "output_type": "error",
     "traceback": [
      "\u001b[1;31mRunning cells with '.conda (Python 3.11.9)' requires the ipykernel package.\n",
      "\u001b[1;31mRun the following command to install 'ipykernel' into the Python environment. \n",
      "\u001b[1;31mCommand: 'conda install -p /Users/sauravghimire/Documents/predictive analysis in healthcare/.conda ipykernel --update-deps --force-reinstall'"
     ]
    }
   ],
   "source": [
    "# In a Jupyter notebook cell\n",
    "from src.model_training import train_random_forest, train_logistic_regression, evaluate_model, save_model\n",
    "\n",
    "# Train Random Forest model\n",
    "rf_model = train_random_forest(X_train, y_train)\n",
    "\n",
    "# Evaluate Random Forest model\n",
    "rf_accuracy, rf_report = evaluate_model(rf_model, X_test, y_test)\n",
    "print(\"Random Forest Accuracy:\", rf_accuracy)\n",
    "print(\"Random Forest Report:\\n\", rf_report)\n",
    "\n",
    "# Save the Random Forest model\n",
    "save_model(rf_model, '../models/random_forest_model.pkl')\n",
    "\n",
    "# Repeat for Logistic Regression\n",
    "lr_model = train_logistic_regression(X_train, y_train)\n",
    "lr_accuracy, lr_report = evaluate_model(lr_model, X_test, y_test)\n",
    "print(\"Logistic Regression Accuracy:\", lr_accuracy)\n",
    "print(\"Logistic Regression Report:\\n\", lr_report)\n",
    "\n",
    "# Save the Logistic Regression model\n",
    "save_model(lr_model, '../models/logistic_regression_model.pkl')"
   ]
  },
  {
   "cell_type": "code",
   "execution_count": null,
   "metadata": {},
   "outputs": [],
   "source": []
  }
 ],
 "metadata": {
  "kernelspec": {
   "display_name": "Python 3",
   "language": "python",
   "name": "python3"
  },
  "language_info": {
   "name": "python",
   "version": "3.11.9"
  }
 },
 "nbformat": 4,
 "nbformat_minor": 2
}
