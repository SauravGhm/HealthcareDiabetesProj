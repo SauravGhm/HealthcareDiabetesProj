{
 "cells": [
  {
   "cell_type": "code",
   "execution_count": null,
   "metadata": {},
   "outputs": [
    {
     "ename": "",
     "evalue": "",
     "output_type": "error",
     "traceback": [
      "\u001b[1;31mRunning cells with '.conda (Python 3.11.9)' requires the ipykernel package.\n",
      "\u001b[1;31mRun the following command to install 'ipykernel' into the Python environment. \n",
      "\u001b[1;31mCommand: 'conda install -p /Users/sauravghimire/Documents/predictive analysis in healthcare/.conda ipykernel --update-deps --force-reinstall'"
     ]
    }
   ],
   "source": [
    "# In a Jupyter notebook cell\n",
    "import pandas as pd\n",
    "from src.data_preprocessing import preprocess_data, split_and_scale_data\n",
    "\n",
    "# Load dataset\n",
    "data = pd.read_csv('../data/raw/diabetes.csv')\n",
    "\n",
    "# Preprocess the data\n",
    "data_cleaned = preprocess_data(data)\n",
    "\n",
    "# Save cleaned data\n",
    "data_cleaned.to_csv('../data/processed/diabetes_cleaned.csv', index=False)\n",
    "\n",
    "# Split and scale data\n",
    "X_train, X_test, y_train, y_test = split_and_scale_data(data_cleaned, 'Outcome')"
   ]
  },
  {
   "cell_type": "code",
   "execution_count": null,
   "metadata": {},
   "outputs": [],
   "source": []
  }
 ],
 "metadata": {
  "kernelspec": {
   "display_name": "Python 3",
   "language": "python",
   "name": "python3"
  },
  "language_info": {
   "name": "python",
   "version": "3.11.9"
  }
 },
 "nbformat": 4,
 "nbformat_minor": 2
}
